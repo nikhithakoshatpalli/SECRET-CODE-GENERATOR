{
  "nbformat": 4,
  "nbformat_minor": 0,
  "metadata": {
    "colab": {
      "provenance": [],
      "authorship_tag": "ABX9TyMDTvmW3VubkhSAQZyp2Mr8",
      "include_colab_link": true
    },
    "kernelspec": {
      "name": "python3",
      "display_name": "Python 3"
    },
    "language_info": {
      "name": "python"
    }
  },
  "cells": [
    {
      "cell_type": "markdown",
      "metadata": {
        "id": "view-in-github",
        "colab_type": "text"
      },
      "source": [
        "<a href=\"https://colab.research.google.com/github/nikhithakoshatpalli/SECRET-CODE-GENERATOR/blob/main/SECRET_CODE_GENERATOR_.ipynb\" target=\"_parent\"><img src=\"https://colab.research.google.com/assets/colab-badge.svg\" alt=\"Open In Colab\"/></a>"
      ]
    },
    {
      "cell_type": "code",
      "execution_count": 1,
      "metadata": {
        "colab": {
          "base_uri": "https://localhost:8080/"
        },
        "id": "zRhvac88Gge-",
        "outputId": "c3c9d30c-46f6-40df-b577-c15fc55111c4"
      },
      "outputs": [
        {
          "output_type": "stream",
          "name": "stdout",
          "text": [
            "\n",
            "--- Secret Code Generator ---\n",
            "1. Encode a message\n",
            "2. Decode a message\n",
            "3. Exit\n",
            "Enter your choice (1/2/3): 1\n",
            "Enter the message to encode: Hello world\n",
            "Enter shift value: 3\n",
            "✅ Encoded Message: Khoor zruog\n",
            "\n",
            "--- Secret Code Generator ---\n",
            "1. Encode a message\n",
            "2. Decode a message\n",
            "3. Exit\n",
            "Enter your choice (1/2/3): 2\n",
            "Enter the message to decode: khoor zroug\n",
            "Enter shift value: 3\n",
            "✅ Decoded Message: hello wolrd\n",
            "\n",
            "--- Secret Code Generator ---\n",
            "1. Encode a message\n",
            "2. Decode a message\n",
            "3. Exit\n",
            "Enter your choice (1/2/3): 3\n",
            "👋 Exiting... Goodbye!\n"
          ]
        }
      ],
      "source": [
        "# Secret Code Generator (Caesar Cipher)\n",
        "# This program can encode and decode messages by shifting letters in the alphabet.\n",
        "\n",
        "# Function to encode a message\n",
        "def encode(message, shift):\n",
        "    \"\"\"Encodes a message by shifting letters forward.\"\"\"\n",
        "    result = \"\"  # Store final encoded message\n",
        "\n",
        "    for char in message:\n",
        "        if char.isalpha():  # Check if character is a letter\n",
        "            # Determine ASCII base (A=65 for uppercase, a=97 for lowercase)\n",
        "            shift_base = 65 if char.isupper() else 97\n",
        "            # Shift character and wrap around using modulo 26\n",
        "            result += chr((ord(char) - shift_base + shift) % 26 + shift_base)\n",
        "        else:\n",
        "            # If not a letter (space, number, punctuation), keep as is\n",
        "            result += char\n",
        "\n",
        "    return result\n",
        "\n",
        "\n",
        "# Function to decode a message\n",
        "def decode(message, shift):\n",
        "    \"\"\"Decodes a message by shifting letters backward.\"\"\"\n",
        "    # Decoding is same as encoding with negative shift\n",
        "    return encode(message, -shift)\n",
        "\n",
        "\n",
        "# Main menu function\n",
        "def menu():\n",
        "    while True:\n",
        "        print(\"\\n--- Secret Code Generator ---\")\n",
        "        print(\"1. Encode a message\")\n",
        "        print(\"2. Decode a message\")\n",
        "        print(\"3. Exit\")\n",
        "\n",
        "        # Get user choice\n",
        "        choice = input(\"Enter your choice (1/2/3): \")\n",
        "\n",
        "        if choice == \"1\":  # Encode option\n",
        "            msg = input(\"Enter the message to encode: \")\n",
        "            shift = int(input(\"Enter shift value: \"))\n",
        "            print(\"✅ Encoded Message:\", encode(msg, shift))\n",
        "\n",
        "        elif choice == \"2\":  # Decode option\n",
        "            msg = input(\"Enter the message to decode: \")\n",
        "            shift = int(input(\"Enter shift value: \"))\n",
        "            print(\"✅ Decoded Message:\", decode(msg, shift))\n",
        "\n",
        "        elif choice == \"3\":  # Exit option\n",
        "            print(\"👋 Exiting... Goodbye!\")\n",
        "            break\n",
        "\n",
        "        else:\n",
        "            # If input is invalid\n",
        "            print(\"⚠️ Invalid choice. Please enter 1, 2, or 3.\")\n",
        "\n",
        "\n",
        "# Run the program\n",
        "menu()\n",
        "\n",
        "\n",
        "\n",
        "\n",
        "\n",
        "\n",
        "\n",
        "\n",
        "\n"
      ]
    }
  ]
}